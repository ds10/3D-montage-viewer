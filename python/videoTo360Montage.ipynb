{
 "cells": [
  {
   "cell_type": "markdown",
   "metadata": {},
   "source": [
    "First we install open CV to running jypter instance"
   ]
  },
  {
   "cell_type": "code",
   "execution_count": 1,
   "metadata": {},
   "outputs": [
    {
     "name": "stdout",
     "output_type": "stream",
     "text": [
      "Requirement already satisfied: opencv-python in c:\\users\\david\\anaconda3\\lib\\site-packages (4.4.0.46)\n",
      "Requirement already satisfied: numpy>=1.13.3 in c:\\users\\david\\anaconda3\\lib\\site-packages (from opencv-python) (1.14.3)\n"
     ]
    },
    {
     "name": "stderr",
     "output_type": "stream",
     "text": [
      "WARNING: You are using pip version 20.2.4; however, version 20.3.3 is available.\n",
      "You should consider upgrading via the 'C:\\Users\\David\\Anaconda3\\python.exe -m pip install --upgrade pip' command.\n"
     ]
    }
   ],
   "source": [
    "import sys\n",
    "import os.path\n",
    "!{sys.executable} -m pip install opencv-python"
   ]
  },
  {
   "cell_type": "code",
   "execution_count": 2,
   "metadata": {},
   "outputs": [],
   "source": [
    "#now import open cv\n",
    "#from skimage.transform import rescale, resize, downscale_local_mean\n",
    "import sys\n",
    "import os.path\n",
    "import cv2\n",
    "import numpy\n",
    "import math\n",
    "from pylab import *\n",
    "from pandas import *"
   ]
  },
  {
   "cell_type": "markdown",
   "metadata": {},
   "source": [
    "The following paramaters are for paths and files"
   ]
  },
  {
   "cell_type": "code",
   "execution_count": 25,
   "metadata": {},
   "outputs": [],
   "source": [
    "#paths and files\n",
    "name = \"video\"\n",
    "extension = \".mp4\"   #video filename and extension\n",
    "nameext = name + extension\n",
    "videoPath = \"Videos\"   #Path to folder containing video. \n",
    "outputPath = 'Examples' #Path to output folder.\n",
    "location = os.path.join(videoPath, nameext)"
   ]
  },
  {
   "cell_type": "code",
   "execution_count": 26,
   "metadata": {},
   "outputs": [],
   "source": [
    "# Parameters\n",
    "## You may have some problems with cropping hight and width. CV2 seems to take the\n",
    "## orintation of a video differently to MATLAB. If the crops are odd, then chances are\n",
    "## you have a horizontal video, stick your head on the side (top bcomes left)..\n",
    "\n",
    "firstFrame = 10   # Frame number where 360 rotation should start\n",
    "lastFrame = 200   # Frame number where 360 rotation should end\n",
    "montageWidth = 8  # No of video frames in x direction of montage\n",
    "montageHeight = 4   # No of video frames in y direction of montage\n",
    "cropLeft = 0   # Crop from left as percentage of video width\n",
    "cropRight = 0   # Crop from right as percentage of video width\n",
    "cropTop = 0   # Crop from top as percentage of video height\n",
    "cropBottom = 0   #Crop from bottom as percentage of video height\n",
    "scale = 1   #Scaling of crop area. Affects file size and image resolution\n",
    "\n",
    "# Extra parameters\n",
    "rotate = 0   #  0 = no frame rotation,  1 = 90 anticlockwise,  2 = 180,  3 = 90 clockwise\n",
    "reverse = False   # Reverse frame order (true/false). Changes direction of mouse rotation\n",
    "jpgQuality = 100   # JPEG quality as percentage of maximum quality\n",
    "colourBalance = True   # Perform colour balancing (true/false)\n",
    "colourBalanceGreyValue = [185,202,183];   # The RGB colour in original video which should appear grey in output montage"
   ]
  },
  {
   "cell_type": "code",
   "execution_count": 27,
   "metadata": {},
   "outputs": [],
   "source": [
    "if cropLeft < 0 or cropTop < 0 or cropRight < 0 or cropBottom < 0:\n",
    "    print('Crop amount cannot be negative');\n",
    "    quit\n",
    "if cropLeft >= 100 or cropTop >= 100 or cropRight >= 100 or cropBottom >= 100:\n",
    "    print('Crop amount cannot be equal to or greater than 100');\n",
    "    quit\n",
    "if cropLeft+cropRight >= 100 or cropTop+cropBottom >= 100:\n",
    "    print('Zero or negative crop area!');\n",
    "    quit\n"
   ]
  },
  {
   "cell_type": "code",
   "execution_count": 28,
   "metadata": {},
   "outputs": [],
   "source": [
    "#v = VideoReader(strcat(videoPath, name, extension));\n",
    "#this is actually useless, legacy from matlab code\n",
    "v = cv2.VideoCapture(location)\n",
    "vh = v.get(3) # float\n",
    "vw = v.get(4) # float\n",
    "ct = vh*cropTop/100;\n",
    "cl = vw*cropLeft/100;\n",
    "ch = vh*(100-(cropTop+cropBottom))/100;\n",
    "cw = vw*(100-(cropLeft+cropRight))/100;"
   ]
  },
  {
   "cell_type": "code",
   "execution_count": 29,
   "metadata": {},
   "outputs": [
    {
     "name": "stdout",
     "output_type": "stream",
     "text": [
      "1920\n",
      "1080\n"
     ]
    }
   ],
   "source": [
    "if rotate == 0 or rotate == 2:\n",
    "    imgWidth = round(cw * scale);\n",
    "    imgHeight = round(ch * scale);\n",
    "\n",
    "else:\n",
    "    imgWidth = round(ch * scale);\n",
    "    imgHeight = round(cw * scale);\n",
    "\n",
    "\n",
    "if reverse:\n",
    "    currentFrameNo = montageWidth * montageHeight - 1; inc = -1;\n",
    "else:\n",
    "    currentFrameNo = 0; inc = 1;\n",
    "\n",
    "outputWidth = imgWidth * montageWidth;\n",
    "outputHeight = imgHeight * montageHeight;\n",
    "totalFrames = 1 + lastFrame - firstFrame;\n",
    "frameInterval = totalFrames/(montageWidth*montageHeight);\n",
    "\n",
    "print(imgHeight)\n",
    "print(imgWidth)"
   ]
  },
  {
   "cell_type": "code",
   "execution_count": 30,
   "metadata": {},
   "outputs": [
    {
     "name": "stdout",
     "output_type": "stream",
     "text": [
      "nothing to see here yet\n",
      "1920\n",
      "1080\n",
      "nothing to see here yet\n",
      "1920\n",
      "1080\n",
      "nothing to see here yet\n",
      "1920\n",
      "1080\n",
      "nothing to see here yet\n",
      "1920\n",
      "1080\n",
      "nothing to see here yet\n",
      "1920\n",
      "1080\n",
      "nothing to see here yet\n",
      "1920\n",
      "1080\n",
      "nothing to see here yet\n",
      "1920\n",
      "1080\n",
      "nothing to see here yet\n",
      "1920\n",
      "1080\n",
      "nothing to see here yet\n",
      "1920\n",
      "1080\n",
      "nothing to see here yet\n",
      "1920\n",
      "1080\n",
      "nothing to see here yet\n",
      "1920\n",
      "1080\n",
      "nothing to see here yet\n",
      "1920\n",
      "1080\n",
      "nothing to see here yet\n",
      "1920\n",
      "1080\n",
      "nothing to see here yet\n",
      "1920\n",
      "1080\n",
      "nothing to see here yet\n",
      "1920\n",
      "1080\n",
      "nothing to see here yet\n",
      "1920\n",
      "1080\n",
      "nothing to see here yet\n",
      "1920\n",
      "1080\n",
      "nothing to see here yet\n",
      "1920\n",
      "1080\n",
      "nothing to see here yet\n",
      "1920\n",
      "1080\n",
      "nothing to see here yet\n",
      "1920\n",
      "1080\n",
      "nothing to see here yet\n",
      "1920\n",
      "1080\n",
      "nothing to see here yet\n",
      "1920\n",
      "1080\n",
      "nothing to see here yet\n",
      "1920\n",
      "1080\n",
      "nothing to see here yet\n",
      "1920\n",
      "1080\n",
      "nothing to see here yet\n",
      "1920\n",
      "1080\n",
      "nothing to see here yet\n",
      "1920\n",
      "1080\n",
      "nothing to see here yet\n",
      "1920\n",
      "1080\n",
      "nothing to see here yet\n",
      "1920\n",
      "1080\n",
      "nothing to see here yet\n",
      "1920\n",
      "1080\n",
      "nothing to see here yet\n",
      "1920\n",
      "1080\n",
      "nothing to see here yet\n",
      "1920\n",
      "1080\n",
      "nothing to see here yet\n",
      "1920\n",
      "1080\n"
     ]
    }
   ],
   "source": [
    "#try it this way: https://github.com/agm0/python-video-image-montage/blob/master/imagemontage.py\n",
    "images = []\n",
    "h = 0\n",
    "w = 0\n",
    "\n",
    "while h < montageHeight:\n",
    "    w = 0;\n",
    "    while w < montageWidth:\n",
    "\n",
    "        x1 = w * imgWidth + 1;\n",
    "        x2 = x1 + imgWidth - 1;\n",
    "        y1 = h * imgHeight + 1;\n",
    "        y2 = y1 + imgHeight - 1;\n",
    "        \n",
    "        v.set(1,math.floor(firstFrame + currentFrameNo * frameInterval)); # 1 = CV_CAP_PROP_POS_FRAMES\n",
    "        ret, frame = v.read()\n",
    "        \n",
    "        if rotate > 0:\n",
    "            frame = numpy.rot90(frame , rotate)\n",
    "        #else:\n",
    "            #frame = frame[cl:ch,ct:cw]\n",
    "\n",
    "        print(imgHeight)\n",
    "        print(imgWidth)\n",
    "        images.append(cv2.resize(frame,(imgHeight,imgWidth)))       \n",
    "        currentFrameNo = currentFrameNo + inc;\n",
    "                      \n",
    "        w = w + 1\n",
    "    h = h + 1"
   ]
  },
  {
   "cell_type": "code",
   "execution_count": 31,
   "metadata": {},
   "outputs": [],
   "source": [
    "##this takes all the images and crops them as needed\n",
    "##it should be done in the forloop, like in the matlab version, but \n",
    "#I took it out to just get my head around the maths, needs putting back.\n",
    "\n",
    "framewidth=images[0].shape[1]\n",
    "frameheight=images[0].shape[0]\n",
    "\n",
    "croppedimages = []\n",
    "\n",
    "right = int(framewidth-((framewidth/100) * cropRight))\n",
    "left = int((framewidth/100) * cropLeft)\n",
    "top = int((frameheight/100) * cropTop)\n",
    "bottom = int(frameheight-(frameheight/100) * cropBottom)\n",
    "\n",
    "for image in images:\n",
    "    croppedimages.append(image[top:bottom,left:right])\n"
   ]
  },
  {
   "cell_type": "code",
   "execution_count": 32,
   "metadata": {},
   "outputs": [
    {
     "data": {
      "text/plain": [
       "True"
      ]
     },
     "execution_count": 32,
     "metadata": {},
     "output_type": "execute_result"
    }
   ],
   "source": [
    "i=0\n",
    "cols = []\n",
    "h = 0\n",
    "\n",
    "while h < montageHeight:\n",
    "    i = i + 1;\n",
    "    start = (i*montageWidth) - montageWidth\n",
    "    cols.append(np.hstack(croppedimages[(i*montageWidth) - montageWidth:i*montageWidth]))\n",
    "    cv2.imwrite(str(i) + \".jpg\", cols[i-1])\n",
    "    h = h + 1\n",
    "\n",
    "outputimage = np.vstack(cols)\n",
    "cv2.imwrite(name + \".jpg\", outputimage)"
   ]
  },
  {
   "cell_type": "code",
   "execution_count": 33,
   "metadata": {},
   "outputs": [],
   "source": [
    "html = f\"<!doctype html>\\n<html lang=en>\\n<head>\\n<meta charset=utf-8>\\n<title>360 montage viewer</title>\\n <style>* {{margin: 0px; padding: 0px;}}</style>\\n</head>\\n<body>\\n<div id=\\\"viewer\\\"></div>\\n<script src=\\\"{name}.js\\\"></script>\\n<script src=\\\"../view360Montage.js\\\"></script>\\n</body>\\n</html>\"\n",
    "\n",
    "Html_file= open(name + \".html\",\"w\")\n",
    "Html_file.write(html)\n",
    "Html_file.close()"
   ]
  },
  {
   "cell_type": "code",
   "execution_count": 34,
   "metadata": {},
   "outputs": [],
   "source": [
    "javascript = f\"var montageSrc = \\\"{name}.jpg\\\";\\nvar xImages = {montageWidth};\\nvar yImages = {montageHeight};\\nvar xImagePixels = {imgWidth};\\nvar yImagePixels = {imgHeight};\\nvar startFrame = 0;\\nvar startZoom = 1;\\nstartXOffset = 0; \\nvar startYOffset = 0;\\n //var scale = 1 //uncomment this to disable auto fit \\nvar rotateSensitivity = 0.25;\\n\"\n",
    "\n",
    "javascript_file = open(name + \".js\",\"w\")\n",
    "javascript_file.write(javascript)\n",
    "javascript_file.close()"
   ]
  },
  {
   "cell_type": "code",
   "execution_count": null,
   "metadata": {},
   "outputs": [],
   "source": []
  }
 ],
 "metadata": {
  "kernelspec": {
   "display_name": "Python 3",
   "language": "python",
   "name": "python3"
  },
  "language_info": {
   "codemirror_mode": {
    "name": "ipython",
    "version": 3
   },
   "file_extension": ".py",
   "mimetype": "text/x-python",
   "name": "python",
   "nbconvert_exporter": "python",
   "pygments_lexer": "ipython3",
   "version": "3.6.5"
  }
 },
 "nbformat": 4,
 "nbformat_minor": 4
}
