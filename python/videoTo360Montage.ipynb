{
 "cells": [
  {
   "cell_type": "markdown",
   "metadata": {},
   "source": [
    "First we install open CV to running jypter instance"
   ]
  },
  {
   "cell_type": "code",
   "execution_count": 1,
   "metadata": {},
   "outputs": [
    {
     "name": "stdout",
     "output_type": "stream",
     "text": [
      "Requirement already satisfied: opencv-python in c:\\users\\david\\anaconda3\\lib\\site-packages (4.4.0.46)\n",
      "Requirement already satisfied: numpy>=1.13.3 in c:\\users\\david\\anaconda3\\lib\\site-packages (from opencv-python) (1.14.3)\n"
     ]
    },
    {
     "name": "stderr",
     "output_type": "stream",
     "text": [
      "WARNING: You are using pip version 20.2.4; however, version 20.3.3 is available.\n",
      "You should consider upgrading via the 'C:\\Users\\David\\Anaconda3\\python.exe -m pip install --upgrade pip' command.\n"
     ]
    }
   ],
   "source": [
    "import sys\n",
    "import os.path\n",
    "!{sys.executable} -m pip install opencv-python"
   ]
  },
  {
   "cell_type": "code",
   "execution_count": 2,
   "metadata": {},
   "outputs": [],
   "source": [
    "#now import open cv\n",
    "#from skimage.transform import rescale, resize, downscale_local_mean\n",
    "import sys\n",
    "import os.path\n",
    "import cv2\n",
    "import numpy\n",
    "import math\n",
    "from pylab import *\n",
    "from pandas import *"
   ]
  },
  {
   "cell_type": "markdown",
   "metadata": {},
   "source": [
    "The following paramaters are for paths and files"
   ]
  },
  {
   "cell_type": "code",
   "execution_count": 3,
   "metadata": {},
   "outputs": [],
   "source": [
    "#paths and files\n",
    "name = \"video.mp4\"\n",
    "#extension = \".mp4\"   #video filename and extension\n",
    "videoPath = \"Videos\"   #Path to folder containing video. \n",
    "outputPath = 'Examples' #Path to output folder.\n",
    "location = os.path.join(videoPath, name)"
   ]
  },
  {
   "cell_type": "code",
   "execution_count": 4,
   "metadata": {},
   "outputs": [],
   "source": [
    "# Parameters\n",
    "## You may have some problems with cropping hight and width. CV2 seems to take the\n",
    "## orintation of a video differently to MATLAB. If the crops are odd, then chances are\n",
    "## you have a horizontal video, stick your head on the side (top bcomes left)..\n",
    "\n",
    "\n",
    "firstFrame = 10   # Frame number where 360 rotation should start\n",
    "lastFrame = 200   # Frame number where 360 rotation should end\n",
    "montageWidth = 8  # No of video frames in x direction of montage\n",
    "montageHeight = 4   # No of video frames in y direction of montage\n",
    "cropLeft = 40   # Crop from left as percentage of video width\n",
    "cropRight = 0   # Crop from right as percentage of video width\n",
    "cropTop = 0   # Crop from top as percentage of video height\n",
    "cropBottom = 0   #Crop from bottom as percentage of video height\n",
    "scale = 1.3500   #Scaling of crop area. Affects file size and image resolution\n",
    "\n",
    "# Extra parameters\n",
    "rotate = 0   #  0 = no frame rotation,  1 = 90 anticlockwise,  2 = 180,  3 = 90 clockwise\n",
    "reverse = False   # Reverse frame order (true/false). Changes direction of mouse rotation\n",
    "jpgQuality = 100   # JPEG quality as percentage of maximum quality\n",
    "colourBalance = True   # Perform colour balancing (true/false)\n",
    "colourBalanceGreyValue = [185,202,183];   # The RGB colour in original video which should appear grey in output montage"
   ]
  },
  {
   "cell_type": "code",
   "execution_count": 5,
   "metadata": {},
   "outputs": [],
   "source": [
    "if cropLeft < 0 or cropTop < 0 or cropRight < 0 or cropBottom < 0:\n",
    "    print('Crop amount cannot be negative');\n",
    "    quit\n",
    "if cropLeft >= 100 or cropTop >= 100 or cropRight >= 100 or cropBottom >= 100:\n",
    "    print('Crop amount cannot be equal to or greater than 100');\n",
    "    quit\n",
    "if cropLeft+cropRight >= 100 or cropTop+cropBottom >= 100:\n",
    "    print('Zero or negative crop area!');\n",
    "    quit\n"
   ]
  },
  {
   "cell_type": "code",
   "execution_count": 6,
   "metadata": {},
   "outputs": [
    {
     "name": "stdout",
     "output_type": "stream",
     "text": [
      "vh:1920.0\n",
      "vw:1080.0\n",
      "cl:432\n",
      "ct:0\n",
      "cw:1080\n",
      "ch:1920\n"
     ]
    }
   ],
   "source": [
    "#v = VideoReader(strcat(videoPath, name, extension));\n",
    "v = cv2.VideoCapture(location)\n",
    "vh = v.get(3) # float\n",
    "vw = v.get(4) # float\n",
    "ct = int(vh*cropTop/100);\n",
    "cl = int(vw*cropLeft/100);\n",
    "ch = int(vh-vh*cropBottom/100);\n",
    "cw = int(vw-(vw*cropRight/100));\n",
    "\n",
    "print(\"vh:\" + str(vh))\n",
    "print(\"vw:\" + str(vw))\n",
    "\n",
    "print(\"cl:\" + str(cl))\n",
    "print(\"ct:\" + str(ct))\n",
    "print(\"cw:\" + str(cw))\n",
    "print(\"ch:\" + str(ch))"
   ]
  },
  {
   "cell_type": "code",
   "execution_count": 7,
   "metadata": {},
   "outputs": [],
   "source": [
    "if rotate == 0 or rotate == 2:\n",
    "    imgWidth = round(cw * scale);\n",
    "    imgHeight = round(ch * scale);\n",
    "\n",
    "else:\n",
    "    imgWidth = round(ch * scale);\n",
    "    imgHeight = round(cw * scale);\n",
    "\n",
    "\n",
    "if reverse:\n",
    "    currentFrameNo = montageWidth * montageHeight - 1; inc = -1;\n",
    "else:\n",
    "    currentFrameNo = 0; inc = 1;\n",
    "\n",
    "outputWidth = imgWidth * montageWidth;\n",
    "outputHeight = imgHeight * montageHeight;\n",
    "totalFrames = 1 + lastFrame - firstFrame;\n",
    "frameInterval = totalFrames/(montageWidth*montageHeight);"
   ]
  },
  {
   "cell_type": "code",
   "execution_count": 8,
   "metadata": {},
   "outputs": [
    {
     "name": "stdout",
     "output_type": "stream",
     "text": [
      "nothing to see here yet\n",
      "nothing to see here yet\n",
      "nothing to see here yet\n",
      "nothing to see here yet\n",
      "nothing to see here yet\n",
      "nothing to see here yet\n",
      "nothing to see here yet\n",
      "nothing to see here yet\n",
      "nothing to see here yet\n",
      "nothing to see here yet\n",
      "nothing to see here yet\n",
      "nothing to see here yet\n",
      "nothing to see here yet\n",
      "nothing to see here yet\n",
      "nothing to see here yet\n",
      "nothing to see here yet\n",
      "nothing to see here yet\n",
      "nothing to see here yet\n",
      "nothing to see here yet\n",
      "nothing to see here yet\n",
      "nothing to see here yet\n",
      "nothing to see here yet\n",
      "nothing to see here yet\n",
      "nothing to see here yet\n",
      "nothing to see here yet\n",
      "nothing to see here yet\n",
      "nothing to see here yet\n",
      "nothing to see here yet\n",
      "nothing to see here yet\n",
      "nothing to see here yet\n",
      "nothing to see here yet\n",
      "nothing to see here yet\n"
     ]
    }
   ],
   "source": [
    "#try it this way: https://github.com/agm0/python-video-image-montage/blob/master/imagemontage.py\n",
    "images = []\n",
    "h = 0\n",
    "w = 0\n",
    "\n",
    "while h < montageHeight:\n",
    "    w = 0;\n",
    "    while w < montageWidth:\n",
    "\n",
    "        x1 = w * imgWidth + 1;\n",
    "        x2 = x1 + imgWidth - 1;\n",
    "        y1 = h * imgHeight + 1;\n",
    "        y2 = y1 + imgHeight - 1;\n",
    "        \n",
    "        v.set(1,math.floor(firstFrame + currentFrameNo * frameInterval)); # 1 = CV_CAP_PROP_POS_FRAMES\n",
    "        ret, frame = v.read()\n",
    "        \n",
    "        if rotate > 0:\n",
    "            #frame = numpy.rot90(frame[ct:ch,cl:cw], rotate)\n",
    "            frame = numpy.rot90(frame[ct:ct,cw:ch], rotate)\n",
    "        else:\n",
    "            frame = frame[cl:ch,ct:cw]\n",
    "            print(\"nothing to see here yet\")\n",
    "       \n",
    "        images.append(cv2.resize(frame,(imgHeight,imgWidth)))       \n",
    "        currentFrameNo = currentFrameNo + inc;\n",
    "                      \n",
    "        w = w + 1\n",
    "    h = h + 1"
   ]
  },
  {
   "cell_type": "code",
   "execution_count": null,
   "metadata": {},
   "outputs": [],
   "source": [
    "\n",
    "print(\"cl:\" + str(cl))\n",
    "print(\"ct:\" + str(ct))\n",
    "print(\"cw:\" + str(cw))\n",
    "print(\"ch:\" + str(ch))\n",
    "\n",
    "\n",
    "cv2.imshow(\"col_1\",images[1][ct:ch,cl:cw])\n",
    "cv2.waitKey(0) \n",
    "cv2.destroyAllWindows() "
   ]
  },
  {
   "cell_type": "code",
   "execution_count": 9,
   "metadata": {},
   "outputs": [
    {
     "data": {
      "text/plain": [
       "True"
      ]
     },
     "execution_count": 9,
     "metadata": {},
     "output_type": "execute_result"
    }
   ],
   "source": [
    "i=0\n",
    "cols = []\n",
    "h = 0\n",
    "\n",
    "while h < montageHeight:\n",
    "    i = i + 1;\n",
    "    start = (i*montageWidth) - montageWidth\n",
    "\n",
    "    cols.append(np.hstack(images[(i*montageWidth) - montageWidth:i*montageWidth]))\n",
    "    cv2.imwrite(str(i) + \".jpg\", cols[i-1])\n",
    "    h = h + 1\n",
    "\n",
    "    \n",
    "\n",
    "outputimage = np.vstack(cols)\n",
    "cv2.imwrite(\"output.jpg\", outputimage)"
   ]
  },
  {
   "cell_type": "code",
   "execution_count": null,
   "metadata": {},
   "outputs": [],
   "source": [
    "h = 0\n",
    "w = 0\n",
    "\n",
    "while h < montageHeight - 1:\n",
    "    while w <montageWidth - 1:\n",
    "        x1 = w * imgWidth + 1;\n",
    "        x2 = x1 + imgWidth - 1;\n",
    "        y1 = h * imgHeight + 1;\n",
    "        y2 = y1 + imgHeight - 1;\n",
    "        \n",
    "        # reading frames: https://stackoverflow.com/questions/33650974/opencv-python-read-specific-frame-using-videocapture\n",
    "        #these read the frame\n",
    "        print(math.floor(firstFrame + currentFrameNo * frameInterval))\n",
    "        v.set(1,math.floor(firstFrame + currentFrameNo * frameInterval)); # 1 = CV_CAP_PROP_POS_FRAMES\n",
    "        ret, frame = v.read()\n",
    "        #cv2.imshow(\"frame\",frame)\n",
    "        #cv2.waitKey(0) \n",
    "        #cv2.destroyAllWindows() \n",
    "        #this is for testing purposes\n",
    "        #frame = v.read(math.floor(firstFrame + currentFrameNo * frameInterval));\n",
    "        #cv2.imshow(\"my_video_name\"+' frame '+ str(lastFrame),frame)\n",
    "        #cv2.waitKey(0) \n",
    "        #cv2.destroyAllWindows()  \n",
    "        \n",
    "        if rotate > 0:\n",
    "            print(\"rotating\");\n",
    "            ##frame = numpy.rot90(frame.crop(frame, [cl , ct , cw , ch]), rotate);\n",
    "            ##without cropping\n",
    "            frame = numpy.rot90(frame, rotate);\n",
    "        else:\n",
    "            print(\" not rotating\")\n",
    "            #cropping the video needs to be rewritten for python, follow the below example\n",
    "            #frame = img[y:y+h, x:x+w]\n",
    "\n",
    "        cv2.imshow(\"frame\",frame)\n",
    "        cv2.waitKey(0) \n",
    "        cv2.destroyAllWindows() \n",
    "        #numpy.arrange(outputimg\n",
    "        #outputImg([y1:y2,x1:x2,:]) =  cv2.resize(frame [ ])\n",
    "        #outputImg(y1:y2,x1:x2,:) = imresize(frame, [imgHeight imgWidth]);\n",
    "        test=cv2.resize(frame,(imgHeight,imgWidth))\n",
    "        print(y1)\n",
    "        \n",
    "        outputImg[arange(y1,y2),arange(x1,x2),[]]=cv2.resize(frame,(imgHeight,imgWidth))\n",
    "        \n",
    "        cv2.imshow(\"frame\",test)\n",
    "        cv2.waitKey(0) \n",
    "        cv2.destroyAllWindows() \n",
    "        \n",
    "        currentFrameNo = currentFrameNo + inc;\n",
    "                      \n",
    "        w = w + 1\n",
    "    h = h + 1\n"
   ]
  }
 ],
 "metadata": {
  "kernelspec": {
   "display_name": "Python 3",
   "language": "python",
   "name": "python3"
  },
  "language_info": {
   "codemirror_mode": {
    "name": "ipython",
    "version": 3
   },
   "file_extension": ".py",
   "mimetype": "text/x-python",
   "name": "python",
   "nbconvert_exporter": "python",
   "pygments_lexer": "ipython3",
   "version": "3.6.5"
  }
 },
 "nbformat": 4,
 "nbformat_minor": 4
}
