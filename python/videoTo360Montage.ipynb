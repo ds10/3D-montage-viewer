{
 "cells": [
  {
   "cell_type": "markdown",
   "metadata": {},
   "source": [
    "First we install open CV to running jypter instance"
   ]
  },
  {
   "cell_type": "code",
   "execution_count": 14,
   "metadata": {},
   "outputs": [
    {
     "name": "stdout",
     "output_type": "stream",
     "text": [
      "Collecting opencv-python\n",
      "  Downloading opencv_python-4.4.0.46-cp36-cp36m-win_amd64.whl (33.5 MB)\n",
      "Requirement already satisfied: numpy>=1.13.3 in c:\\users\\david\\anaconda3\\lib\\site-packages (from opencv-python) (1.14.3)\n",
      "Installing collected packages: opencv-python\n",
      "Successfully installed opencv-python-4.4.0.46\n"
     ]
    }
   ],
   "source": [
    "import sys\n",
    "!{sys.executable} -m pip install opencv-python"
   ]
  },
  {
   "cell_type": "code",
   "execution_count": 16,
   "metadata": {},
   "outputs": [],
   "source": [
    "#now import open cv\n",
    "import cv2"
   ]
  },
  {
   "cell_type": "markdown",
   "metadata": {},
   "source": [
    "The following paramaters are for paths and files"
   ]
  },
  {
   "cell_type": "code",
   "execution_count": 21,
   "metadata": {},
   "outputs": [],
   "source": [
    "#paths and files\n",
    "name = \"video\"\n",
    "extension = \".mp4\"   #video filename and extension\n",
    "videoPath = \"Videos\"   #Path to folder containing video. \n",
    "outputPath = 'Examples' #Path to output folder."
   ]
  },
  {
   "cell_type": "code",
   "execution_count": 38,
   "metadata": {},
   "outputs": [],
   "source": [
    "# Parameters\n",
    "firstFrame = 10   # Frame number where 360 rotation should start\n",
    "lastFrame = 200   # Frame number where 360 rotation should end\n",
    "montageWidth = 8  # No of video frames in x direction of montage\n",
    "montageHeight = 4   # No of video frames in y direction of montage\n",
    "cropLeft = 0   # Crop from left as percentage of video width\n",
    "cropRight = 0   # Crop from right as percentage of video width\n",
    "cropTop = 11.00   # Crop from top as percentage of video height\n",
    "cropBottom = 10.50   #Crop from bottom as percentage of video height\n",
    "scale = 1.3500   #Scaling of crop area. Affects file size and image resolution\n",
    "\n",
    "# Extra parameters\n",
    "rotate = 0   #  0 = no frame rotation,  1 = 90 anticlockwise,  2 = 180,  3 = 90 clockwise\n",
    "reverse = False   # Reverse frame order (true/false). Changes direction of mouse rotation\n",
    "jpgQuality = 100   # JPEG quality as percentage of maximum quality\n",
    "colourBalance = True   # Perform colour balancing (true/false)\n",
    "colourBalanceGreyValue = [185,202,183];   # The RGB colour in original video which should appear grey in output montage"
   ]
  },
  {
   "cell_type": "code",
   "execution_count": 40,
   "metadata": {},
   "outputs": [
    {
     "name": "stdout",
     "output_type": "stream",
     "text": [
      "Crop amount cannot be equal to or greater than 100\n",
      "Zero or negative crop area!\n"
     ]
    }
   ],
   "source": [
    "if cropLeft < 0 or cropTop < 0 or cropRight < 0 or cropBottom < 0:\n",
    "    print('Crop amount cannot be negative');\n",
    "    quit\n",
    "if cropLeft >= 100 or cropTop >= 100 or cropRight >= 100 or cropBottom >= 100:\n",
    "    print('Crop amount cannot be equal to or greater than 100');\n",
    "    quit\n",
    "if cropLeft+cropRight >= 100 or cropTop+cropBottom >= 100:\n",
    "    print('Zero or negative crop area!');\n",
    "    quit\n"
   ]
  },
  {
   "cell_type": "code",
   "execution_count": null,
   "metadata": {},
   "outputs": [],
   "source": [
    "if (cropLeft < 0 || cropTop < 0 || cropRight < 0 || cropBottom < 0)\n",
    "    msgbox('Crop amount cannot be negative');\n",
    "    return\n",
    "end\n",
    "if (cropLeft >= 100 || cropTop >= 100 || cropRight >= 100 || cropBottom >= 100)\n",
    "    msgbox('Crop amount cannot be equal to or greater than 100');\n",
    "    return;\n",
    "end\n",
    "if (cropLeft+cropRight >= 100 || cropTop+cropBottom >= 100)\n",
    "    msgbox('Zero or negative crop area!');\n",
    "    return;\n",
    "end"
   ]
  }
 ],
 "metadata": {
  "kernelspec": {
   "display_name": "Python 3",
   "language": "python",
   "name": "python3"
  },
  "language_info": {
   "codemirror_mode": {
    "name": "ipython",
    "version": 3
   },
   "file_extension": ".py",
   "mimetype": "text/x-python",
   "name": "python",
   "nbconvert_exporter": "python",
   "pygments_lexer": "ipython3",
   "version": "3.6.5"
  }
 },
 "nbformat": 4,
 "nbformat_minor": 2
}
