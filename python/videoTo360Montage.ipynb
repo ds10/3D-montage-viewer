{
 "cells": [
  {
   "cell_type": "markdown",
   "metadata": {},
   "source": [
    "First we install open CV to running jypter instance"
   ]
  },
  {
   "cell_type": "code",
   "execution_count": 1,
   "metadata": {},
   "outputs": [
    {
     "name": "stdout",
     "output_type": "stream",
     "text": [
      "Requirement already satisfied: opencv-python in c:\\users\\david\\anaconda3\\lib\\site-packages (4.4.0.46)\n",
      "Requirement already satisfied: numpy>=1.13.3 in c:\\users\\david\\anaconda3\\lib\\site-packages (from opencv-python) (1.14.3)\n"
     ]
    }
   ],
   "source": [
    "import sys\n",
    "import os.path\n",
    "!{sys.executable} -m pip install opencv-python"
   ]
  },
  {
   "cell_type": "code",
   "execution_count": 2,
   "metadata": {},
   "outputs": [],
   "source": [
    "#now import open cv\n",
    "import cv2\n",
    "import numpy\n",
    "import math"
   ]
  },
  {
   "cell_type": "markdown",
   "metadata": {},
   "source": [
    "The following paramaters are for paths and files"
   ]
  },
  {
   "cell_type": "code",
   "execution_count": 3,
   "metadata": {},
   "outputs": [],
   "source": [
    "#paths and files\n",
    "name = \"video.mp4\"\n",
    "#extension = \".mp4\"   #video filename and extension\n",
    "videoPath = \"Videos\"   #Path to folder containing video. \n",
    "outputPath = 'Examples' #Path to output folder.\n",
    "location = os.path.join(videoPath, name)"
   ]
  },
  {
   "cell_type": "code",
   "execution_count": 4,
   "metadata": {},
   "outputs": [],
   "source": [
    "# Parameters\n",
    "firstFrame = 10   # Frame number where 360 rotation should start\n",
    "lastFrame = 200   # Frame number where 360 rotation should end\n",
    "montageWidth = 8  # No of video frames in x direction of montage\n",
    "montageHeight = 4   # No of video frames in y direction of montage\n",
    "cropLeft = 0   # Crop from left as percentage of video width\n",
    "cropRight = 0   # Crop from right as percentage of video width\n",
    "cropTop = 11.00   # Crop from top as percentage of video height\n",
    "cropBottom = 10.50   #Crop from bottom as percentage of video height\n",
    "scale = 1.3500   #Scaling of crop area. Affects file size and image resolution\n",
    "\n",
    "# Extra parameters\n",
    "rotate = 0   #  0 = no frame rotation,  1 = 90 anticlockwise,  2 = 180,  3 = 90 clockwise\n",
    "reverse = False   # Reverse frame order (true/false). Changes direction of mouse rotation\n",
    "jpgQuality = 100   # JPEG quality as percentage of maximum quality\n",
    "colourBalance = True   # Perform colour balancing (true/false)\n",
    "colourBalanceGreyValue = [185,202,183];   # The RGB colour in original video which should appear grey in output montage"
   ]
  },
  {
   "cell_type": "code",
   "execution_count": 5,
   "metadata": {},
   "outputs": [],
   "source": [
    "if cropLeft < 0 or cropTop < 0 or cropRight < 0 or cropBottom < 0:\n",
    "    print('Crop amount cannot be negative');\n",
    "    quit\n",
    "if cropLeft >= 100 or cropTop >= 100 or cropRight >= 100 or cropBottom >= 100:\n",
    "    print('Crop amount cannot be equal to or greater than 100');\n",
    "    quit\n",
    "if cropLeft+cropRight >= 100 or cropTop+cropBottom >= 100:\n",
    "    print('Zero or negative crop area!');\n",
    "    quit\n"
   ]
  },
  {
   "cell_type": "code",
   "execution_count": 6,
   "metadata": {},
   "outputs": [
    {
     "name": "stdout",
     "output_type": "stream",
     "text": [
      "Videos\\video.mp4\n"
     ]
    }
   ],
   "source": [
    "print(location)"
   ]
  },
  {
   "cell_type": "code",
   "execution_count": 7,
   "metadata": {},
   "outputs": [],
   "source": [
    "#v = VideoReader(strcat(videoPath, name, extension));\n",
    "v = cv2.VideoCapture(location)\n",
    "vh = v.get(3) # float\n",
    "vw = v.get(4) # float\n",
    "ct = vh*cropTop/100;\n",
    "cl = vw*cropLeft/100;\n",
    "ch = vh*(100-(cropTop+cropBottom))/100;\n",
    "cw = vw*(100-(cropLeft+cropRight))/100;"
   ]
  },
  {
   "cell_type": "code",
   "execution_count": 8,
   "metadata": {},
   "outputs": [],
   "source": [
    "if rotate == 0 or rotate == 2:\n",
    "    imgWidth = round(cw * scale);\n",
    "    imgHeight = round(ch * scale);\n",
    "else:\n",
    "    imgWidth = round(ch * scale);\n",
    "    imgHeight = round(cw * scale);\n",
    "\n",
    "\n",
    "if reverse:\n",
    "    currentFrameNo = montageWidth * montageHeight - 1; inc = -1;\n",
    "else:\n",
    "    currentFrameNo = 0; inc = 1;\n",
    "\n",
    "outputWidth = imgWidth * montageWidth;\n",
    "outputHeight = imgHeight * montageHeight;\n",
    "totalFrames = 1 + lastFrame - firstFrame;\n",
    "frameInterval = totalFrames/(montageWidth*montageHeight);\n",
    "outputImg = numpy.zeros((outputHeight, outputWidth, 3) , 'uint8');"
   ]
  },
  {
   "cell_type": "code",
   "execution_count": 14,
   "metadata": {},
   "outputs": [
    {
     "name": "stdout",
     "output_type": "stream",
     "text": [
      " not rotating\n",
      "0.0\n",
      "211.2\n",
      "1080.0\n",
      "1507.2\n",
      " not rotating\n",
      "0.0\n",
      "211.2\n",
      "1080.0\n",
      "1507.2\n",
      " not rotating\n",
      "0.0\n",
      "211.2\n",
      "1080.0\n",
      "1507.2\n",
      " not rotating\n",
      "0.0\n",
      "211.2\n",
      "1080.0\n",
      "1507.2\n",
      " not rotating\n",
      "0.0\n",
      "211.2\n",
      "1080.0\n",
      "1507.2\n",
      " not rotating\n",
      "0.0\n",
      "211.2\n",
      "1080.0\n",
      "1507.2\n",
      " not rotating\n",
      "0.0\n",
      "211.2\n",
      "1080.0\n",
      "1507.2\n"
     ]
    }
   ],
   "source": [
    "h = 0\n",
    "w = 0\n",
    "\n",
    "while h < montageHeight - 1:\n",
    "    while w <montageWidth - 1:\n",
    "        x1 = w * imgWidth + 1;\n",
    "        x2 = x1 + imgWidth - 1;\n",
    "        y1 = h * imgHeight + 1;\n",
    "        y2 = y1 + imgHeight - 1;\n",
    "        \n",
    "        # reading frames: https://stackoverflow.com/questions/33650974/opencv-python-read-specific-frame-using-videocapture\n",
    "        \n",
    "        v.set(1,math.floor(firstFrame + currentFrameNo * frameInterval));\n",
    "        \n",
    "        #these read the frame\n",
    "        ret, frame = v.read()\n",
    "        \n",
    "        #this is for testing purposes\n",
    "        #frame = v.read(math.floor(firstFrame + currentFrameNo * frameInterval));\n",
    "        #cv2.imshow(\"my_video_name\"+' frame '+ str(lastFrame),frame)\n",
    "        #cv2.waitKey(0) \n",
    "        #cv2.destroyAllWindows()  \n",
    "        \n",
    "        \n",
    "        if rotate > 0:\n",
    "            print(\"rotating\");\n",
    "            ##frame = numpy.rot90(frame.crop(frame, [cl , ct , cw , ch]), rotate);\n",
    "        else:\n",
    "            print(\" not rotating\")\n",
    "            # resized = cv2.resize(frame,) no we need to crop not resize\n",
    "            print(cl)\n",
    "            print(ct)\n",
    "            print(cw)\n",
    "            print(ch)\n",
    "         \n",
    "            crop_frame = frame[int(cl):int(ct),int(cw):int(ch)]\n",
    "            \n",
    "            cv2.imshow(\"my_video_name\"+' crop_frame '+ str(lastFrame),crop_frame)\n",
    "            cv2.waitKey(0) \n",
    "            cv2.destroyAllWindows()  \n",
    "            #frame = frame.crop( [cl , ct , cw , ch]);\n",
    "        #outputImg(y1:y2,x1:x2,:) = imresize(frame, [imgHeight imgWidth]);\n",
    "        #NUMPT VERSION OF ABOVE:\n",
    "        test=numpy.arange(y1,y2)\n",
    "        currentFrameNo = currentFrameNo + inc;\n",
    "        w = w+ 1\n",
    "    h = h+ 1\n"
   ]
  },
  {
   "cell_type": "code",
   "execution_count": null,
   "metadata": {},
   "outputs": [],
   "source": []
  },
  {
   "cell_type": "code",
   "execution_count": null,
   "metadata": {},
   "outputs": [],
   "source": []
  }
 ],
 "metadata": {
  "kernelspec": {
   "display_name": "Python 3",
   "language": "python",
   "name": "python3"
  },
  "language_info": {
   "codemirror_mode": {
    "name": "ipython",
    "version": 3
   },
   "file_extension": ".py",
   "mimetype": "text/x-python",
   "name": "python",
   "nbconvert_exporter": "python",
   "pygments_lexer": "ipython3",
   "version": "3.6.5"
  }
 },
 "nbformat": 4,
 "nbformat_minor": 4
}
