{
 "cells": [
  {
   "cell_type": "markdown",
   "metadata": {},
   "source": [
    "First we install open CV to running jypter instance"
   ]
  },
  {
   "cell_type": "code",
   "execution_count": 42,
   "metadata": {},
   "outputs": [
    {
     "name": "stdout",
     "output_type": "stream",
     "text": [
      "Requirement already satisfied: opencv-python in c:\\users\\david\\anaconda3\\lib\\site-packages (4.4.0.46)\n",
      "Requirement already satisfied: numpy>=1.13.3 in c:\\users\\david\\anaconda3\\lib\\site-packages (from opencv-python) (1.14.3)\n"
     ]
    }
   ],
   "source": [
    "import sys\n",
    "import os.path\n",
    "!{sys.executable} -m pip install opencv-python"
   ]
  },
  {
   "cell_type": "code",
   "execution_count": 16,
   "metadata": {},
   "outputs": [],
   "source": [
    "#now import open cv\n",
    "import cv2"
   ]
  },
  {
   "cell_type": "markdown",
   "metadata": {},
   "source": [
    "The following paramaters are for paths and files"
   ]
  },
  {
   "cell_type": "code",
   "execution_count": 43,
   "metadata": {},
   "outputs": [],
   "source": [
    "#paths and files\n",
    "name = \"video.mp4\"\n",
    "#extension = \".mp4\"   #video filename and extension\n",
    "videoPath = \"Videos\"   #Path to folder containing video. \n",
    "outputPath = 'Examples' #Path to output folder.\n",
    "location = os.path.join(videoPath, name)"
   ]
  },
  {
   "cell_type": "code",
   "execution_count": 38,
   "metadata": {},
   "outputs": [],
   "source": [
    "# Parameters\n",
    "firstFrame = 10   # Frame number where 360 rotation should start\n",
    "lastFrame = 200   # Frame number where 360 rotation should end\n",
    "montageWidth = 8  # No of video frames in x direction of montage\n",
    "montageHeight = 4   # No of video frames in y direction of montage\n",
    "cropLeft = 0   # Crop from left as percentage of video width\n",
    "cropRight = 0   # Crop from right as percentage of video width\n",
    "cropTop = 11.00   # Crop from top as percentage of video height\n",
    "cropBottom = 10.50   #Crop from bottom as percentage of video height\n",
    "scale = 1.3500   #Scaling of crop area. Affects file size and image resolution\n",
    "\n",
    "# Extra parameters\n",
    "rotate = 0   #  0 = no frame rotation,  1 = 90 anticlockwise,  2 = 180,  3 = 90 clockwise\n",
    "reverse = False   # Reverse frame order (true/false). Changes direction of mouse rotation\n",
    "jpgQuality = 100   # JPEG quality as percentage of maximum quality\n",
    "colourBalance = True   # Perform colour balancing (true/false)\n",
    "colourBalanceGreyValue = [185,202,183];   # The RGB colour in original video which should appear grey in output montage"
   ]
  },
  {
   "cell_type": "code",
   "execution_count": 40,
   "metadata": {},
   "outputs": [
    {
     "name": "stdout",
     "output_type": "stream",
     "text": [
      "Crop amount cannot be equal to or greater than 100\n",
      "Zero or negative crop area!\n"
     ]
    }
   ],
   "source": [
    "if cropLeft < 0 or cropTop < 0 or cropRight < 0 or cropBottom < 0:\n",
    "    print('Crop amount cannot be negative');\n",
    "    quit\n",
    "if cropLeft >= 100 or cropTop >= 100 or cropRight >= 100 or cropBottom >= 100:\n",
    "    print('Crop amount cannot be equal to or greater than 100');\n",
    "    quit\n",
    "if cropLeft+cropRight >= 100 or cropTop+cropBottom >= 100:\n",
    "    print('Zero or negative crop area!');\n",
    "    quit\n"
   ]
  },
  {
   "cell_type": "code",
   "execution_count": 44,
   "metadata": {},
   "outputs": [
    {
     "name": "stdout",
     "output_type": "stream",
     "text": [
      "Videos\\video.mp4\n"
     ]
    }
   ],
   "source": [
    "print(location)"
   ]
  },
  {
   "cell_type": "code",
   "execution_count": 46,
   "metadata": {},
   "outputs": [
    {
     "ename": "NameError",
     "evalue": "name 'vcap' is not defined",
     "output_type": "error",
     "traceback": [
      "\u001b[1;31m---------------------------------------------------------------------------\u001b[0m",
      "\u001b[1;31mNameError\u001b[0m                                 Traceback (most recent call last)",
      "\u001b[1;32m<ipython-input-46-90671107aa36>\u001b[0m in \u001b[0;36m<module>\u001b[1;34m()\u001b[0m\n\u001b[0;32m      1\u001b[0m \u001b[1;31m#v = VideoReader(strcat(videoPath, name, extension));\u001b[0m\u001b[1;33m\u001b[0m\u001b[1;33m\u001b[0m\u001b[0m\n\u001b[0;32m      2\u001b[0m \u001b[0mv\u001b[0m \u001b[1;33m=\u001b[0m \u001b[0mcv2\u001b[0m\u001b[1;33m.\u001b[0m\u001b[0mVideoCapture\u001b[0m\u001b[1;33m(\u001b[0m\u001b[0mlocation\u001b[0m\u001b[1;33m)\u001b[0m\u001b[1;33m\u001b[0m\u001b[0m\n\u001b[1;32m----> 3\u001b[1;33m \u001b[0mvw\u001b[0m  \u001b[1;33m=\u001b[0m \u001b[0mvcap\u001b[0m\u001b[1;33m.\u001b[0m\u001b[0mget\u001b[0m\u001b[1;33m(\u001b[0m\u001b[1;36m3\u001b[0m\u001b[1;33m)\u001b[0m \u001b[1;31m# float\u001b[0m\u001b[1;33m\u001b[0m\u001b[0m\n\u001b[0m\u001b[0;32m      4\u001b[0m \u001b[0mvh\u001b[0m \u001b[1;33m=\u001b[0m \u001b[0mvcap\u001b[0m\u001b[1;33m.\u001b[0m\u001b[0mget\u001b[0m\u001b[1;33m(\u001b[0m\u001b[1;36m4\u001b[0m\u001b[1;33m)\u001b[0m \u001b[1;31m# float\u001b[0m\u001b[1;33m\u001b[0m\u001b[0m\n\u001b[0;32m      5\u001b[0m \u001b[0mct\u001b[0m \u001b[1;33m=\u001b[0m \u001b[0mvh\u001b[0m\u001b[1;33m*\u001b[0m\u001b[0mcropTop\u001b[0m\u001b[1;33m/\u001b[0m\u001b[1;36m100\u001b[0m\u001b[1;33m;\u001b[0m\u001b[1;33m\u001b[0m\u001b[0m\n",
      "\u001b[1;31mNameError\u001b[0m: name 'vcap' is not defined"
     ]
    }
   ],
   "source": [
    "#v = VideoReader(strcat(videoPath, name, extension));\n",
    "v = cv2.VideoCapture(location)\n",
    "vw = v.get(3) # float\n",
    "vh = v.get(4) # float\n",
    "ct = vh*cropTop/100;\n",
    "cl = vw*cropLeft/100;\n",
    "ch = vh*(100-(cropTop+cropBottom))/100;\n",
    "cw = vw*(100-(cropLeft+cropRight))/100;"
   ]
  },
  {
   "cell_type": "code",
   "execution_count": null,
   "metadata": {},
   "outputs": [],
   "source": []
  }
 ],
 "metadata": {
  "kernelspec": {
   "display_name": "Python 3",
   "language": "python",
   "name": "python3"
  },
  "language_info": {
   "codemirror_mode": {
    "name": "ipython",
    "version": 3
   },
   "file_extension": ".py",
   "mimetype": "text/x-python",
   "name": "python",
   "nbconvert_exporter": "python",
   "pygments_lexer": "ipython3",
   "version": "3.6.5"
  }
 },
 "nbformat": 4,
 "nbformat_minor": 2
}
